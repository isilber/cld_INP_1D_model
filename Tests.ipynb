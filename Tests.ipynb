{
 "cells": [
  {
   "cell_type": "markdown",
   "id": "injured-butler",
   "metadata": {},
   "source": [
    "# Run (and test) the structural 1D model"
   ]
  },
  {
   "cell_type": "code",
   "execution_count": null,
   "id": "progressive-pharmaceutical",
   "metadata": {},
   "outputs": [],
   "source": [
    "\"\"\"\n",
    "First, load the model output and prepare for 1D model\n",
    "\"\"\"\n",
    "import LES\n",
    "import numpy as np\n",
    "\n",
    "t_harvest = (3600, 3600*3) # harvest output after LES is steady (3h)\n",
    "height_ind_2crop = \"ql_pbl\"  # identify PBL top z-index using a q_liq threshold of 1e-3 g/kg.\n",
    "les_out_path, les_out_filename = 'data_les/shi3_isdac_sfc6_pTqv_fthqv_lw_3_abifm_final/', 'dharma.soundings.cdf'\n",
    "les = LES.DHARMA(les_out_path, les_out_filename, t_harvest=t_harvest, height_ind_2crop=height_ind_2crop, cbh_det_method=\"ql_cbh\").ds\n",
    "les"
   ]
  },
  {
   "cell_type": "code",
   "execution_count": null,
   "id": "emerging-catalyst",
   "metadata": {},
   "outputs": [],
   "source": []
  }
 ],
 "metadata": {
  "kernelspec": {
   "display_name": "Python 3",
   "language": "python",
   "name": "python3"
  },
  "language_info": {
   "codemirror_mode": {
    "name": "ipython",
    "version": 3
   },
   "file_extension": ".py",
   "mimetype": "text/x-python",
   "name": "python",
   "nbconvert_exporter": "python",
   "pygments_lexer": "ipython3",
   "version": "3.7.6"
  }
 },
 "nbformat": 4,
 "nbformat_minor": 5
}
